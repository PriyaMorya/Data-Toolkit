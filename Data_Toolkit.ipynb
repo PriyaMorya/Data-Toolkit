{
  "nbformat": 4,
  "nbformat_minor": 0,
  "metadata": {
    "colab": {
      "provenance": []
    },
    "kernelspec": {
      "name": "python3",
      "display_name": "Python 3"
    },
    "language_info": {
      "name": "python"
    }
  },
  "cells": [
    {
      "cell_type": "markdown",
      "source": [
        "#Data Toolkit"
      ],
      "metadata": {
        "id": "7I2ZkgeTLUCs"
      }
    },
    {
      "cell_type": "markdown",
      "source": [
        "1. What is NumPy, and why is it widely used in Python?\n",
        "   - **NumPy** is a fundamental library in Python for scientific computing. It offers powerful features for working with multidimensional arrays and performing various mathematical operations efficiently. NumPy (Numerical Python) is an open source Python library that has a wide range of inbuilt functions.\n",
        "    - **It is widely used in Python because** NumPy is ideal for handling large amounts of homogeneous (same-type) data, offering significant improvements in speed and memory efficiency. It also provides high-level syntax for a wide range of numerical operations, making it a powerful tool for scientific computing and data processing on the CPU.\n",
        "\n"
      ],
      "metadata": {
        "id": "JWOjwRQmLdD-"
      }
    },
    {
      "cell_type": "markdown",
      "source": [
        "2. How does broadcasting work in NumPy?\n",
        "   - Broadcasting work (is a mechanism) in NumPy that allows performing operations on arrays of different shapes under certain conditions. When operands have different shapes, NumPy expands the smaller array to match the larger one in a specific way to perform element-wise operations."
      ],
      "metadata": {
        "id": "rGY16nBuLovc"
      }
    },
    {
      "cell_type": "markdown",
      "source": [
        "3.  What is a Pandas DataFrame?\n",
        "    - Pandas DataFrame is a way to represent and work with tabular data. It can be seen as a table that organizes data into rows and columns, making it a two-dimensional data structure. A DataFrame can be created from scratch, or you can use other data structures, like NumPy arrays."
      ],
      "metadata": {
        "id": "0VpKoaxYLt1N"
      }
    },
    {
      "cell_type": "markdown",
      "source": [
        "4. Explain the use of the groupby() method in Pandas.\n",
        "   - In Pandas, the groupby() method is used to split data into groups based on one or more columns, so we can perform operations (like sum, mean, count, etc.) on each group independently.\n",
        "\n",
        "It follows the “Split–Apply–Combine” strategy:\n",
        "\n",
        "1. Split: Split the DataFrame into groups based on column(s).\n",
        "\n",
        "2. Apply: Apply a function (aggregation, transformation, filtering) to each group.\n",
        "\n",
        "3. Combine: Combine the results back into a DataFrame.\n",
        "\n",
        "\n"
      ],
      "metadata": {
        "id": "i_ZzLx1rLv5Z"
      }
    },
    {
      "cell_type": "markdown",
      "source": [
        "5.  Why is Seaborn preferred for statistical visualizations?\n",
        "    - Seaborn is more than just a tool for creating attractive plots—it's a gateway to understanding data. Its ability to simplify statistical plotting, integrate with pandas, and support a wide range of customization options makes it an essential library for anyone involved in data analysis and visualization.\n",
        "    "
      ],
      "metadata": {
        "id": "-b9FklbuL__D"
      }
    },
    {
      "cell_type": "markdown",
      "source": [
        "6. What are the differences between NumPy arrays and Python lists?\n",
        "   - The main difference is that NumPy arrays are much faster and have strict requirements on the homogeneity of the objects. Both lists and NumPy arrays have a wide array of built-in methods for performing a variety of tasks including sorting, finding min/max, truncating, appending, concatenating and much more."
      ],
      "metadata": {
        "id": "r3g5zLZ8MGi9"
      }
    },
    {
      "cell_type": "markdown",
      "source": [
        "7. What is a heatmap, and when should it be used?\n",
        "   - A heatmap is a data visualization technique that represents values in a 2D format, where data values are shown as colors.\n",
        "\n",
        "    - Higher values are usually represented with darker or more intense colors.\n",
        "    - Lower values are represented with lighter colors.\n",
        "    - It’s like a colored table that makes it easy to see patterns, trends, and correlations in data.\n",
        "    - Heatmaps are used in various forms of analytics but are most commonly used to show user behavior on specific web pages or webpage templates.\n",
        "  - **We should use a heatmap when we want to**:\n",
        "\n",
        "    - Show relationships or correlations.\n",
        "        Example: Correlation matrix between variables in a dataset.\n",
        "    -  Visualize intensity of values in a matrix. Example: Customer activity across time of day vs. day of week.\n",
        "    -  Highlight patterns in large data tables. Example: Website traffic heatmap, sales across regions.\n",
        "    -  Compare values quickly. Example: Which areas have higher/lower sales or scores.\n"
      ],
      "metadata": {
        "id": "7VAZwuCrMLxx"
      }
    },
    {
      "cell_type": "markdown",
      "source": [
        "8.  What does the term “vectorized operation” mean in NumPy?\n",
        "    - A vectorized operation means performing operations on entire arrays (vectors, matrices, etc.) at once, without using explicit Python loops.Instead of looping through each element one by one, NumPy uses highly optimized C and Fortran implementations in the backend to apply operations element-wise across arrays.\n"
      ],
      "metadata": {
        "id": "jKVznvMRMPzp"
      }
    },
    {
      "cell_type": "markdown",
      "source": [
        "9.  How does Matplotlib differ from Plotly?\n",
        "   - Both Matplotlib and Plotly are popular Python visualization libraries, but they serve slightly different purposes.\n",
        "   \n",
        "   - **Feature**:\n",
        "      - Plot Type\t: In Matplotlib, Mostly static; wherease\tInteractive in Plotly\n",
        "      - Ease of Use: In Matplotlib, Verbose, lower-level; wherease \tHigh-level, easy in Plotly\n",
        "      - Customization:In Matplotlib,\tExtremely flexible;\tLimited (but beautiful by default) in Plotly\n",
        "      - Performance:\tIn Matplotlib, Very fast on large data; wherease Can lag on very large data in Plotly\n",
        "      - Best for:\tIn Matplotlib,Scientific papers, academic work; wherease\tDashboards, web apps, business reports\n",
        "      - Output:\tIn Matplotlib,PNG, PDF, SVG; wherease\tInteractive HTML, dashboards\n",
        "\n",
        "  - Hence, Matplotlib is more explicit in declaring each plot element, making it an ideal place for new Python users to start, while Plotly is well-suited for creating interactive plots to be displayed in a web browser.\n",
        "     "
      ],
      "metadata": {
        "id": "rMJPFAkjMT3P"
      }
    },
    {
      "cell_type": "markdown",
      "source": [
        "10. What is the significance of hierarchical indexing in Pandas?\n",
        "    - Using Hierarchical Indexing in Code, This extra syntax allows for greater flexibility when creating queries that cover large, complex DataFrames. These are some basic examples of how to code and utilize DataFrames within Panda. For more detail, refer to the pandas documentation."
      ],
      "metadata": {
        "id": "bVDOsLUCMZoO"
      }
    },
    {
      "cell_type": "markdown",
      "source": [
        "11. What is the role of Seaborn’s pairplot() function?\n",
        "    - pairplot() method is used for visualizing relationships between multiple variables in a dataset. By creating a grid of scatter plots it helps to identify how different features interact with each other to identify patterns, correlations and trends in data."
      ],
      "metadata": {
        "id": "XhO7eOJ0MezO"
      }
    },
    {
      "cell_type": "markdown",
      "source": [
        "12. What is the purpose of the describe() function in Pandas?\n",
        "   - The Python pandas function DataFrame. describe() is used to generate a statistical summary of the numerical columns in a DataFrame. This summary includes key statistical metrics like mean, standard deviation, minimum, maximum and different percentiles.It quickly gives you an overview of the distribution, central tendency, and spread of your data. The describe() function in Pandas is used for quick exploratory data analysis (EDA) — giving you summary statistics of numerical or categorical data in just one line.\n",
        "\n",
        "\n",
        "\n"
      ],
      "metadata": {
        "id": "fR8lO1ugMmuT"
      }
    },
    {
      "cell_type": "markdown",
      "source": [
        "13. Why is handling missing data important in Pandas?\n",
        "    - The handling missing data is important in Pandas for:\n",
        "     1.** Ensures Accuracy of Analysis**\n",
        "\n",
        "Missing values can lead to biased results or wrong insights if not handled properly.\n",
        "\n",
        "Example: If you compute the average salary but some values are missing, the mean may not represent the true population.\n",
        "\n",
        "2. **Prevents Errors in Computation**\n",
        "\n",
        "Many Pandas/NumPy functions (like mean(), sum(), ml models) may break or return unexpected results if missing values (NaN) are present.\n",
        "\n",
        "3. **Improves Model Performance (Machine Learning)**\n",
        "\n",
        "ML algorithms usually cannot handle NaN values directly.\n",
        "\n",
        "If missing values are not addressed, models may fail to train or give inaccurate predictions.\n",
        "\n",
        "4. **Maintains Data Integrity**\n",
        "\n",
        "Sometimes missing data carries important information (e.g., “no response” in a survey might indicate disinterest).\n",
        "\n",
        "Deciding whether to drop, fill, or keep missing values depends on the context.\n",
        "\n",
        "5. **Ensures Comparability**\n",
        "\n",
        "In datasets with multiple columns, missing values can make it hard to compare rows properly.\n",
        "\n",
        "Example: In time series, missing timestamps can break trend analysis.\n",
        "\n",
        "\n",
        "\n"
      ],
      "metadata": {
        "id": "Im4mb-tMMoOW"
      }
    },
    {
      "cell_type": "markdown",
      "source": [
        "14. What are the benefits of using Plotly for data visualization?\n",
        "    - The benefits of Using Plotly for Data Visualization are:\n",
        "       -  **Interactive Visualizations**\n",
        "         Unlike Matplotlib/Seaborn (mostly static), Plotly charts are interactive by default.\n",
        "         Features: zoom, pan, hover tooltips, legend toggling, filtering.\n",
        "         It Makes data exploration faster and more intuitive.\n",
        "\n",
        "      -  **Wide Range of Chart Types**\n",
        "      It Supports basic charts: line, bar, scatter, pie, histograms.\n",
        "      Advanced charts: 3D plots, maps, heatmaps, network graphs, financial candlesticks.\n",
        "      It Can handle complex dashboards in one framework.\n",
        "     -  **Web & Dashboard Integration**\n",
        "        It works seamlessly with Plotly Dash for creating full-fledged interactive dashboards without JavaScript. Plots can be exported to HTML and shared easily.\n",
        "      - ** Beautiful by Default**\n",
        "      Plotly’s charts look aesthetically pleasing with minimal customization.It Built-in themes, smooth animations, and clean layouts.\n",
        "      -  **Cross-Language Support**\n",
        "      It available in Python, R, Julia, JavaScript.\n",
        "      Easy to integrate with Jupyter Notebook, Google Colab, and web apps.\n",
        "\n",
        "     -  **Handles Large Datasets (with Caution)**\n",
        "     It can handle relatively large datasets with interactivity.\n",
        "     It Optimized rendering in web browsers.\n",
        "(For extremely large data, libraries like Datashader may be better).\n",
        "    \n",
        "      -  **Easy to Learn and Use**\n",
        "         High-level API (like plotly.express) makes it simple for beginners.Low-level API (plotly.graph_objects) gives advanced control.\n"
      ],
      "metadata": {
        "id": "_yBtzknFMttV"
      }
    },
    {
      "cell_type": "markdown",
      "source": [
        "15. How does NumPy handle multidimensional arrays?\n",
        "   - NumPy handle multidimensional arrays in the following ways:\n",
        "     - 1.Creation of Multidimensional Arrays\n",
        "\n",
        "\n",
        "\n",
        "```\n",
        "# mport numpy as np\n",
        "\n",
        "# 1D (vector)\n",
        "a = np.array([1, 2, 3])\n",
        "\n",
        "# 2D (matrix)\n",
        "b = np.array([[1, 2, 3], [4, 5, 6]])\n",
        "\n",
        "# 3D (tensor)\n",
        "c = np.array([[[1, 2], [3, 4]], [[5, 6], [7, 8]]])\n",
        "\n",
        "a.shape → (3,) (1 row, 3 columns)\n",
        "\n",
        "b.shape → (2, 3) (2 rows, 3 columns)\n",
        "\n",
        "c.shape → (2, 2, 2) (2 blocks, 2 rows, 2 cols)\n",
        "\n",
        "\n",
        "```\n",
        "2. **Indexing & Slicing**\n",
        "\n",
        "NumPy allows row-column indexing:\n",
        "\n",
        "print(b[0, 1])   # element at row 0, col 1 → 2\n",
        "print(c[1, 0, 1]) # second block, first row, second col → 6\n",
        "\n",
        "Supports slicing across dimensions:\n",
        "\n",
        "print(b[:, 1])   # second column → [2 5]\n",
        "print(c[0, :, :]) # first block → [[1 2] [3 4]]\n",
        "\n",
        "3. **Vectorized Operations Across Dimensions**\n",
        "\n",
        "Operations are element-wise across all dimensions:\n",
        "\n",
        "\n",
        "```\n",
        "# print(b + 10)\n",
        "# [[11 12 13]\n",
        "#  [14 15 16]]\n",
        "\n",
        "print(b * 2)\n",
        "# [[ 2  4  6]\n",
        "#  [ 8 10 12]]\n",
        "```\n",
        "\n",
        "4. Axis-Based Operations\n",
        "\n",
        "You can specify axis to reduce along rows/columns:\n",
        "\n",
        "print(b.sum(axis=0))  # column-wise sum → [5 7 9]\n",
        "print(b.sum(axis=1))  # row-wise sum → [6 15]\n",
        "\n",
        "\n",
        "5. **Broadcasting**\n",
        "\n",
        "NumPy can automatically expand dimensions to perform operations:\n",
        "\n",
        "\n",
        "```\n",
        "# x = np.array([[1], [2], [3]])   # shape (3,1)\n",
        "y = np.array([10, 20, 30])      # shape (3,)\n",
        "\n",
        "print(x + y)\n",
        "# [[11 21 31]\n",
        "#  [12 22 32]\n",
        "#  [13 23 33]\n",
        "```\n",
        "\n",
        "6.**Reshaping & Transposing**\n",
        "\n",
        "Reshape changes dimensions without changing data:\n",
        "\n",
        "\n",
        "```\n",
        "# arr = np.arange(6).reshape(2, 3)\n",
        "print(arr)\n",
        "# [[0 1 2]\n",
        "#  [3 4 5]]\n",
        "```\n",
        "7. Transpose flips rows & columns:\n",
        "\n",
        "\n",
        "```\n",
        "# print(arr.T)\n",
        "# [[0 3]\n",
        "#  [1 4]\n",
        "#  [2 5]]\n",
        "```\n",
        "\n",
        "- NumPy handles multidimensional arrays using the ndarray object, which supports efficient storage, indexing, slicing, broadcasting, reshaping, and vectorized operations across any number of dimensions.\n"
      ],
      "metadata": {
        "id": "RL0lPiLmMzgg"
      }
    },
    {
      "cell_type": "markdown",
      "source": [
        "16. What is the role of Bokeh in data visualization?\n",
        "    - Role of Bokeh in Data Visualization\n",
        "\n",
        "     1. **Interactive Plots**\n",
        "\n",
        "Supports zooming, panning, hovering, selecting data points.\n",
        "\n",
        "Great for exploratory data analysis and presentations where users need to interact with data.\n",
        "2. **Web & Dashboard Integration**\n",
        "\n",
        "Plots can be saved as standalone HTML files or embedded into web applications.\n",
        "\n",
        "Works well with Flask, Django, and Jupyter Notebooks.\n",
        "\n",
        "Has a built-in framework called Bokeh Server for building interactive real-time dashboards.\n",
        "\n",
        "3. **Wide Variety of Visualizations**\n",
        "\n",
        "Standard plots: line, bar, scatter, histogram, heatmap.\n",
        "\n",
        "Advanced: time-series, geospatial maps, network graphs, streaming data.\n",
        "\n",
        "Can handle large datasets efficiently (via WebGL rendering).\n",
        "\n",
        "4. **Streaming & Real-Time Data**\n",
        "\n",
        "Unlike Matplotlib, Bokeh supports live updates.\n",
        "\n",
        "Useful for financial data, IoT dashboards, stock monitoring, sensor data visualization.\n",
        "\n"
      ],
      "metadata": {
        "id": "86aRdghRM3lW"
      }
    },
    {
      "cell_type": "markdown",
      "source": [
        "17.  Explain the difference between apply() and map() in Pandas.\n",
        "     - In Pandas, both apply() and map() are used to perform operations on data, but they differ in their scope, flexibility, and typical use cases:\n",
        "     1. Scope:\n",
        "        - map():Exclusively for Series objects. It is used to substitute each value in a Series with another value based on a mapping (either a dictionary, a Series, or a callable function).\n",
        "       - apply():Can be used on both Series and DataFrame objects. When used on a DataFrame, it applies a function along an axis (row-wise or column-wise). When used on a Series, it applies a function to each element of the Series, similar to map() with a callable.\n",
        "     2. Flexibility:\n",
        "       - map():Primarily designed for element-wise value substitution. It's efficient for direct mapping of values.\n",
        "      - apply():More versatile and flexible. It can handle more complex operations, including those that involve multiple columns, aggregation, or custom logic that can't be expressed as a simple one-to-one mapping.\n",
        "    3. Use Cases:\n",
        "      - map():\n",
        "         Ideal for tasks like:Replacing categorical values with numerical codes.\n",
        "         Standardizing values based on a lookup table.\n",
        "         Creating new Series from existing ones by applying a simple transformation to each element.\n",
        "      - apply():\n",
        "          Suitable for a wider range of scenarios, such as:\n",
        "         Applying a custom function to each row or column of a DataFrame.\n",
        "          Calculating aggregates (e.g., sum, mean) for specific groups within a DataFrame.\n",
        "         Performing complex string manipulations or data cleaning operations on a Series or DataFrame column.\n",
        "\n"
      ],
      "metadata": {
        "id": "_aqhN5DDM70R"
      }
    },
    {
      "cell_type": "markdown",
      "source": [
        "18. What are some advanced features of NumPy?\n",
        "    - Advanced Features of NumPy\n",
        "      1. **Broadcasting**:\n",
        "        it allows arithmetic operations on arrays of different shapes without explicit looping.\n",
        "        Saves time and memory.\n",
        "      2. **Vectorization**:\n",
        "        it eliminates explicit Python loops by applying operations directly on arrays.\n",
        "       Much faster due to C-level optimizations.\n",
        "      3. **Structured & Record Arrays**:\n",
        "        it Store heterogeneous data types (like SQL tables).\n",
        "        Useful for working with tabular data.\n",
        "      4. **Advanced Indexing & Boolean Indexing**:\n",
        "         it extract, filter, or assign values using conditions.\n",
        "      5. **Random Sampling & Distributions (numpy.random)**:\n",
        "        it generate random numbers from custom distributions (normal, binomial, Poisson, etc.).\n",
        "      6. **Memory Mapping (for Large Data)**:\n",
        "       it Handle arrays larger than RAM using memmap.\n",
        "      7. **Linear Algebra & FFT**:\n",
        "       it built-in support for matrix operations, eigenvalues, decompositions, and Fourier transforms.\n",
        "\n",
        "\n",
        "\n",
        "\n",
        "\n",
        "\n",
        "\n",
        "\n",
        "\n",
        "\n",
        "\n",
        "\n",
        "\n",
        "\n",
        "\n"
      ],
      "metadata": {
        "id": "5EdEwgpGNG1Y"
      }
    },
    {
      "cell_type": "markdown",
      "source": [
        "19.  How does Pandas simplify time series analysis?\n",
        "    - 1.** Date/Time Data Types (datetime64, Timedelta, Period)**\n",
        "\n",
        "Pandas has built-in types for handling dates and times.\n",
        "\n",
        "Converting strings to datetime is easy with pd.to_datetime().\n",
        "\n",
        "\n",
        "2. **DatetimeIndex**\n",
        "\n",
        "You can use dates as index (time-based indexing).\n",
        "\n",
        "Allows slicing by year, month, day, or even time ranges.\n",
        "\n",
        "\n",
        " 3. **Resampling & Frequency Conversion**\n",
        "\n",
        "Easily convert between frequencies (e.g., daily → monthly).\n",
        "\n",
        "Supports aggregation (sum, mean, etc.) or interpolation.\n",
        "\n",
        " 4. **Shifting & Lagging Data**\n",
        "\n",
        "Useful in forecasting and lag analysis.\n",
        "\n",
        "\n",
        "5. **Rolling, Expanding & Moving Window Functions**\n",
        "\n",
        "Compute moving averages, rolling sums, exponential smoothing.\n",
        "\n",
        "\n",
        "6. **Date Range Generators**\n",
        "\n",
        "Create sequences of dates with custom frequencies.\n",
        "\n",
        "\n",
        "\n",
        "\n",
        "     "
      ],
      "metadata": {
        "id": "kV7d_Uv2NO_k"
      }
    },
    {
      "cell_type": "markdown",
      "source": [
        "20. What is the role of a pivot table in Pandas?\n",
        "  -  **The Role of a Pivot Table in Pandas**\n",
        "\n",
        "A pivot table in Pandas is used to summarize, group, and aggregate data in a flexible way, similar to Excel pivot tables.\n",
        "\n",
        "It allows us to:\n",
        "\n",
        "  -  Rearrange (pivot) data for better insights.\n",
        "\n",
        "  - Perform aggregations (like sum, mean, count, min, max).\n",
        "\n",
        "  - Compare values across multiple dimensions (rows & columns).\n",
        "\n",
        "  - Handle categorical data efficiently.\n",
        "\n",
        "\n"
      ],
      "metadata": {
        "id": "4UvlHc3ANQ7R"
      }
    },
    {
      "cell_type": "markdown",
      "source": [
        "21. Why is NumPy’s array slicing faster than Python’s list slicing?\n",
        "    - NumPy’s array slicing is significantly faster than Python’s list slicing because of how data is stored and accessed in memory. Python lists are collections of pointers to objects scattered across memory, so slicing requires creating a new list and copying references element by element, which adds overhead. In contrast, NumPy arrays are stored in contiguous memory blocks with fixed-size, homogeneous data types, allowing efficient memory access and predictable indexing. When you slice a NumPy array, it usually returns a view of the original data instead of making a copy, meaning no actual data movement is needed—only start, stop, and stride information is adjusted at the C level. This design not only reduces memory usage but also improves execution speed since NumPy operations are implemented in optimized C code rather than slower Python loops. Thus, slicing in NumPy is more efficient both in terms of time and memory, making it highly suitable for numerical and scientific computing."
      ],
      "metadata": {
        "id": "gvpBpCRwNaGB"
      }
    },
    {
      "cell_type": "markdown",
      "source": [
        "22. What are some common use cases for Seaborn?\n",
        "    - some common use cases for Seaborn are:\n",
        "    1. **Exploratory Data Analysis (EDA)**\n",
        "\n",
        "Quickly visualize distributions, relationships, and patterns in data.\n",
        "\n",
        "Example: Histograms, KDE plots, boxplots to check data spread.\n",
        "\n",
        " 2. **Visualizing Distributions**\n",
        "\n",
        "Understand how data is distributed across variables.\n",
        "\n",
        "Functions: histplot(), kdeplot(), distplot() (deprecated), rugplot().\n",
        " Example: Visualizing exam score distributions.\n",
        "\n",
        " 3. **Comparing Categories**\n",
        "\n",
        "Analyze categorical vs numerical data.\n",
        "\n",
        "Functions: boxplot(), violinplot(), stripplot(), swarmplot(), countplot().\n",
        " Example: Salary distribution across departments.\n",
        "\n",
        "4. **Relationship Analysis (Correlation/Regression)**\n",
        "\n",
        "Study relationships between two or more variables.\n",
        "\n",
        "Functions: scatterplot(), regplot(), lmplot(), pairplot().\n",
        " Example: Relationship between income and spending score.\n",
        "\n",
        " 5. **Heatmaps for Correlation Matrices**\n",
        "\n",
        "Visualize correlation between variables in datasets.\n",
        "\n",
        "Function: heatmap().\n",
        " Example: Correlation between features in a machine learning dataset.\n",
        "\n",
        " 6. **Time Series Visualization**\n",
        "\n",
        "Plot data across time to identify trends and seasonality.\n",
        "\n",
        "Function: lineplot().\n",
        " Example: Stock price trends over months.\n"
      ],
      "metadata": {
        "id": "NAPNfULoNfGQ"
      }
    },
    {
      "cell_type": "markdown",
      "source": [
        "#Practical"
      ],
      "metadata": {
        "id": "pWZhI1-BNlde"
      }
    },
    {
      "cell_type": "markdown",
      "source": [
        "1.  How do you create a 2D NumPy array and calculate the sum of each row?"
      ],
      "metadata": {
        "id": "k_PTrQ2BNqFo"
      }
    },
    {
      "cell_type": "code",
      "source": [
        "import numpy as np\n",
        "\n",
        "# Create 2D array\n",
        "arr = np.array([[1, 2, 3],\n",
        "                [4, 5, 6],\n",
        "                [7, 8, 9]])\n",
        "\n",
        "# Row-wise sum\n",
        "row_sum = arr.sum(axis=1)\n",
        "print(\"Row-wise sum:\", row_sum)"
      ],
      "metadata": {
        "colab": {
          "base_uri": "https://localhost:8080/"
        },
        "id": "Iy6dp8XDTITA",
        "outputId": "08445812-3789-4e8a-c544-791939b97e55"
      },
      "execution_count": null,
      "outputs": [
        {
          "output_type": "stream",
          "name": "stdout",
          "text": [
            "Row-wise sum: [ 6 15 24]\n"
          ]
        }
      ]
    },
    {
      "cell_type": "markdown",
      "source": [
        "2. Write a Pandas script to find the mean of a specific column in a DataFrame."
      ],
      "metadata": {
        "id": "ZPP2xbiYNvfJ"
      }
    },
    {
      "cell_type": "code",
      "source": [
        "import pandas as pd\n",
        "\n",
        "data = {'Name': ['A', 'B', 'C'], 'Marks': [85, 90, 78]}\n",
        "df = pd.DataFrame(data)\n",
        "\n",
        "mean_marks = df['Marks'].mean()\n",
        "print(\"Mean Marks:\", mean_marks)\n",
        "\n"
      ],
      "metadata": {
        "colab": {
          "base_uri": "https://localhost:8080/"
        },
        "id": "s92mhlpuTN6q",
        "outputId": "b8307967-bd2d-4ff3-aa18-e51eed556451"
      },
      "execution_count": null,
      "outputs": [
        {
          "output_type": "stream",
          "name": "stdout",
          "text": [
            "Mean Marks: 84.33333333333333\n"
          ]
        }
      ]
    },
    {
      "cell_type": "markdown",
      "source": [
        "3. Create a scatter plot using Matplotlib."
      ],
      "metadata": {
        "id": "6XZMF8V4N2Ic"
      }
    },
    {
      "cell_type": "code",
      "source": [
        "import matplotlib.pyplot as plt\n",
        "\n",
        "x = [5, 7, 8, 7, 6, 9]\n",
        "y = [99, 86, 87, 88, 100, 86]\n",
        "\n",
        "plt.scatter(x, y, color='blue')\n",
        "plt.title(\"Scatter Plot\")\n",
        "plt.xlabel(\"X-axis\")\n",
        "plt.ylabel(\"Y-axis\")\n",
        "plt.show()\n"
      ],
      "metadata": {
        "colab": {
          "base_uri": "https://localhost:8080/",
          "height": 472
        },
        "id": "h6zjHDkyThXe",
        "outputId": "8d237ee6-4afa-486d-d174-27ce3239e8fd"
      },
      "execution_count": null,
      "outputs": [
        {
          "output_type": "display_data",
          "data": {
            "text/plain": [
              "<Figure size 640x480 with 1 Axes>"
            ],
            "image/png": "[encoded data removed]"
          },
          "metadata": {}
        }
      ]
    },
    {
      "cell_type": "markdown",
      "source": [
        "4. How do you calculate the correlation matrix using Seaborn and visualize it with a heatmap?"
      ],
      "metadata": {
        "id": "4nxpT-cFN86o"
      }
    },
    {
      "cell_type": "code",
      "source": [
        "import seaborn as sns\n",
        "import pandas as pd\n",
        "\n",
        "# Sample DataFrame\n",
        "df = pd.DataFrame({\n",
        "    'Math': [90, 85, 88, 78],\n",
        "    'Science': [80, 89, 84, 76],\n",
        "    'English': [75, 78, 85, 80]\n",
        "})\n",
        "corr = df.corr()\n",
        "sns.heatmap(corr, annot=True, cmap=\"coolwarm\")\n",
        "\n",
        "\n"
      ],
      "metadata": {
        "colab": {
          "base_uri": "https://localhost:8080/",
          "height": 452
        },
        "id": "yYw7_XqDTneX",
        "outputId": "7336b0ba-44fc-46ab-d84c-35483a2ce7b6"
      },
      "execution_count": null,
      "outputs": [
        {
          "output_type": "execute_result",
          "data": {
            "text/plain": [
              "<Axes: >"
            ]
          },
          "metadata": {},
          "execution_count": 6
        },
        {
          "output_type": "display_data",
          "data": {
            "text/plain": [
              "<Figure size 640x480 with 2 Axes>"
            ],
            "image/png": "[encoded data removed]"
          },
          "metadata": {}
        }
      ]
    },
    {
      "cell_type": "markdown",
      "source": [
        "5. Generate a bar plot using Plotly."
      ],
      "metadata": {
        "id": "pSKhjdrmODtP"
      }
    },
    {
      "cell_type": "code",
      "source": [
        "import plotly.express as px\n",
        "\n",
        "data = {'Fruit': ['Apple', 'Banana', 'Orange'], 'Sales': [10, 20, 15]}\n",
        "fig = px.bar(data, x='Fruit', y='Sales', title=\"Fruit Sales\")\n",
        "fig.show()\n",
        "\n"
      ],
      "metadata": {
        "colab": {
          "base_uri": "https://localhost:8080/",
          "height": 542
        },
        "id": "qB-8dJFaT3Qe",
        "outputId": "d3ac35b8-fce8-4ab8-eae2-396017cf332b"
      },
      "execution_count": null,
      "outputs": [
        {
          "output_type": "display_data",
          "data": {
            "text/html": [
              "<html>\n",
              "<head><meta charset=\"utf-8\" /></head>\n",
              "<body>\n",
              "    <div>            <script src=\"https://cdnjs.cloudflare.com/ajax/libs/mathjax/2.7.5/MathJax.js?config=TeX-AMS-MML_SVG\"></script><script type=\"text/javascript\">if (window.MathJax && window.MathJax.Hub && window.MathJax.Hub.Config) {window.MathJax.Hub.Config({SVG: {font: \"STIX-Web\"}});}</script>                <script type=\"text/javascript\">window.PlotlyConfig = {MathJaxConfig: 'local'};</script>\n",
              "        <script charset=\"utf-8\" src=\"https://cdn.plot.ly/plotly-2.35.2.min.js\"></script>                <div id=\"2be9c7db-3890-4b27-97a3-cc4bdff6c9d6\" class=\"plotly-graph-div\" style=\"height:525px; width:100%;\"></div>            <script type=\"text/javascript\">                                    window.PLOTLYENV=window.PLOTLYENV || {};                                    if (document.getElementById(\"2be9c7db-3890-4b27-97a3-cc4bdff6c9d6\")) {                    Plotly.newPlot(                        \"2be9c7db-3890-4b27-97a3-cc4bdff6c9d6\",                        [{\"alignmentgroup\":\"True\",\"hovertemplate\":\"Fruit=%{x}\\u003cbr\\u003eSales=%{y}\\u003cextra\\u003e\\u003c\\u002fextra\\u003e\",\"legendgroup\":\"\",\"marker\":{\"color\":\"#636efa\",\"pattern\":{\"shape\":\"\"}},\"name\":\"\",\"offsetgroup\":\"\",\"orientation\":\"v\",\"showlegend\":false,\"textposition\":\"auto\",\"x\":[\"Apple\",\"Banana\",\"Orange\"],\"xaxis\":\"x\",\"y\":[10,20,15],\"yaxis\":\"y\",\"type\":\"bar\"}],                        {\"template\":{\"data\":{\"histogram2dcontour\":[{\"type\":\"histogram2dcontour\",\"colorbar\":{\"outlinewidth\":0,\"ticks\":\"\"},\"colorscale\":[[0.0,\"#0d0887\"],[0.1111111111111111,\"#46039f\"],[0.2222222222222222,\"#7201a8\"],[0.3333333333333333,\"#9c179e\"],[0.4444444444444444,\"#bd3786\"],[0.5555555555555556,\"#d8576b\"],[0.6666666666666666,\"#ed7953\"],[0.7777777777777778,\"#fb9f3a\"],[0.8888888888888888,\"#fdca26\"],[1.0,\"#f0f921\"]]}],\"choropleth\":[{\"type\":\"choropleth\",\"colorbar\":{\"outlinewidth\":0,\"ticks\":\"\"}}],\"histogram2d\":[{\"type\":\"histogram2d\",\"colorbar\":{\"outlinewidth\":0,\"ticks\":\"\"},\"colorscale\":[[0.0,\"#0d0887\"],[0.1111111111111111,\"#46039f\"],[0.2222222222222222,\"#7201a8\"],[0.3333333333333333,\"#9c179e\"],[0.4444444444444444,\"#bd3786\"],[0.5555555555555556,\"#d8576b\"],[0.6666666666666666,\"#ed7953\"],[0.7777777777777778,\"#fb9f3a\"],[0.8888888888888888,\"#fdca26\"],[1.0,\"#f0f921\"]]}],\"heatmap\":[{\"type\":\"heatmap\",\"colorbar\":{\"outlinewidth\":0,\"ticks\":\"\"},\"colorscale\":[[0.0,\"#0d0887\"],[0.1111111111111111,\"#46039f\"],[0.2222222222222222,\"#7201a8\"],[0.3333333333333333,\"#9c179e\"],[0.4444444444444444,\"#bd3786\"],[0.5555555555555556,\"#d8576b\"],[0.6666666666666666,\"#ed7953\"],[0.7777777777777778,\"#fb9f3a\"],[0.8888888888888888,\"#fdca26\"],[1.0,\"#f0f921\"]]}],\"heatmapgl\":[{\"type\":\"heatmapgl\",\"colorbar\":{\"outlinewidth\":0,\"ticks\":\"\"},\"colorscale\":[[0.0,\"#0d0887\"],[0.1111111111111111,\"#46039f\"],[0.2222222222222222,\"#7201a8\"],[0.3333333333333333,\"#9c179e\"],[0.4444444444444444,\"#bd3786\"],[0.5555555555555556,\"#d8576b\"],[0.6666666666666666,\"#ed7953\"],[0.7777777777777778,\"#fb9f3a\"],[0.8888888888888888,\"#fdca26\"],[1.0,\"#f0f921\"]]}],\"contourcarpet\":[{\"type\":\"contourcarpet\",\"colorbar\":{\"outlinewidth\":0,\"ticks\":\"\"}}],\"contour\":[{\"type\":\"contour\",\"colorbar\":{\"outlinewidth\":0,\"ticks\":\"\"},\"colorscale\":[[0.0,\"#0d0887\"],[0.1111111111111111,\"#46039f\"],[0.2222222222222222,\"#7201a8\"],[0.3333333333333333,\"#9c179e\"],[0.4444444444444444,\"#bd3786\"],[0.5555555555555556,\"#d8576b\"],[0.6666666666666666,\"#ed7953\"],[0.7777777777777778,\"#fb9f3a\"],[0.8888888888888888,\"#fdca26\"],[1.0,\"#f0f921\"]]}],\"surface\":[{\"type\":\"surface\",\"colorbar\":{\"outlinewidth\":0,\"ticks\":\"\"},\"colorscale\":[[0.0,\"#0d0887\"],[0.1111111111111111,\"#46039f\"],[0.2222222222222222,\"#7201a8\"],[0.3333333333333333,\"#9c179e\"],[0.4444444444444444,\"#bd3786\"],[0.5555555555555556,\"#d8576b\"],[0.6666666666666666,\"#ed7953\"],[0.7777777777777778,\"#fb9f3a\"],[0.8888888888888888,\"#fdca26\"],[1.0,\"#f0f921\"]]}],\"mesh3d\":[{\"type\":\"mesh3d\",\"colorbar\":{\"outlinewidth\":0,\"ticks\":\"\"}}],\"scatter\":[{\"fillpattern\":{\"fillmode\":\"overlay\",\"size\":10,\"solidity\":0.2},\"type\":\"scatter\"}],\"parcoords\":[{\"type\":\"parcoords\",\"line\":{\"colorbar\":{\"outlinewidth\":0,\"ticks\":\"\"}}}],\"scatterpolargl\":[{\"type\":\"scatterpolargl\",\"marker\":{\"colorbar\":{\"outlinewidth\":0,\"ticks\":\"\"}}}],\"bar\":[{\"error_x\":{\"color\":\"#2a3f5f\"},\"error_y\":{\"color\":\"#2a3f5f\"},\"marker\":{\"line\":{\"color\":\"#E5ECF6\",\"width\":0.5},\"pattern\":{\"fillmode\":\"overlay\",\"size\":10,\"solidity\":0.2}},\"type\":\"bar\"}],\"scattergeo\":[{\"type\":\"scattergeo\",\"marker\":{\"colorbar\":{\"outlinewidth\":0,\"ticks\":\"\"}}}],\"scatterpolar\":[{\"type\":\"scatterpolar\",\"marker\":{\"colorbar\":{\"outlinewidth\":0,\"ticks\":\"\"}}}],\"histogram\":[{\"marker\":{\"pattern\":{\"fillmode\":\"overlay\",\"size\":10,\"solidity\":0.2}},\"type\":\"histogram\"}],\"scattergl\":[{\"type\":\"scattergl\",\"marker\":{\"colorbar\":{\"outlinewidth\":0,\"ticks\":\"\"}}}],\"scatter3d\":[{\"type\":\"scatter3d\",\"line\":{\"colorbar\":{\"outlinewidth\":0,\"ticks\":\"\"}},\"marker\":{\"colorbar\":{\"outlinewidth\":0,\"ticks\":\"\"}}}],\"scattermapbox\":[{\"type\":\"scattermapbox\",\"marker\":{\"colorbar\":{\"outlinewidth\":0,\"ticks\":\"\"}}}],\"scatterternary\":[{\"type\":\"scatterternary\",\"marker\":{\"colorbar\":{\"outlinewidth\":0,\"ticks\":\"\"}}}],\"scattercarpet\":[{\"type\":\"scattercarpet\",\"marker\":{\"colorbar\":{\"outlinewidth\":0,\"ticks\":\"\"}}}],\"carpet\":[{\"aaxis\":{\"endlinecolor\":\"#2a3f5f\",\"gridcolor\":\"white\",\"linecolor\":\"white\",\"minorgridcolor\":\"white\",\"startlinecolor\":\"#2a3f5f\"},\"baxis\":{\"endlinecolor\":\"#2a3f5f\",\"gridcolor\":\"white\",\"linecolor\":\"white\",\"minorgridcolor\":\"white\",\"startlinecolor\":\"#2a3f5f\"},\"type\":\"carpet\"}],\"table\":[{\"cells\":{\"fill\":{\"color\":\"#EBF0F8\"},\"line\":{\"color\":\"white\"}},\"header\":{\"fill\":{\"color\":\"#C8D4E3\"},\"line\":{\"color\":\"white\"}},\"type\":\"table\"}],\"barpolar\":[{\"marker\":{\"line\":{\"color\":\"#E5ECF6\",\"width\":0.5},\"pattern\":{\"fillmode\":\"overlay\",\"size\":10,\"solidity\":0.2}},\"type\":\"barpolar\"}],\"pie\":[{\"automargin\":true,\"type\":\"pie\"}]},\"layout\":{\"autotypenumbers\":\"strict\",\"colorway\":[\"#636efa\",\"#EF553B\",\"#00cc96\",\"#ab63fa\",\"#FFA15A\",\"#19d3f3\",\"#FF6692\",\"#B6E880\",\"#FF97FF\",\"#FECB52\"],\"font\":{\"color\":\"#2a3f5f\"},\"hovermode\":\"closest\",\"hoverlabel\":{\"align\":\"left\"},\"paper_bgcolor\":\"white\",\"plot_bgcolor\":\"#E5ECF6\",\"polar\":{\"bgcolor\":\"#E5ECF6\",\"angularaxis\":{\"gridcolor\":\"white\",\"linecolor\":\"white\",\"ticks\":\"\"},\"radialaxis\":{\"gridcolor\":\"white\",\"linecolor\":\"white\",\"ticks\":\"\"}},\"ternary\":{\"bgcolor\":\"#E5ECF6\",\"aaxis\":{\"gridcolor\":\"white\",\"linecolor\":\"white\",\"ticks\":\"\"},\"baxis\":{\"gridcolor\":\"white\",\"linecolor\":\"white\",\"ticks\":\"\"},\"caxis\":{\"gridcolor\":\"white\",\"linecolor\":\"white\",\"ticks\":\"\"}},\"coloraxis\":{\"colorbar\":{\"outlinewidth\":0,\"ticks\":\"\"}},\"colorscale\":{\"sequential\":[[0.0,\"#0d0887\"],[0.1111111111111111,\"#46039f\"],[0.2222222222222222,\"#7201a8\"],[0.3333333333333333,\"#9c179e\"],[0.4444444444444444,\"#bd3786\"],[0.5555555555555556,\"#d8576b\"],[0.6666666666666666,\"#ed7953\"],[0.7777777777777778,\"#fb9f3a\"],[0.8888888888888888,\"#fdca26\"],[1.0,\"#f0f921\"]],\"sequentialminus\":[[0.0,\"#0d0887\"],[0.1111111111111111,\"#46039f\"],[0.2222222222222222,\"#7201a8\"],[0.3333333333333333,\"#9c179e\"],[0.4444444444444444,\"#bd3786\"],[0.5555555555555556,\"#d8576b\"],[0.6666666666666666,\"#ed7953\"],[0.7777777777777778,\"#fb9f3a\"],[0.8888888888888888,\"#fdca26\"],[1.0,\"#f0f921\"]],\"diverging\":[[0,\"#8e0152\"],[0.1,\"#c51b7d\"],[0.2,\"#de77ae\"],[0.3,\"#f1b6da\"],[0.4,\"#fde0ef\"],[0.5,\"#f7f7f7\"],[0.6,\"#e6f5d0\"],[0.7,\"#b8e186\"],[0.8,\"#7fbc41\"],[0.9,\"#4d9221\"],[1,\"#276419\"]]},\"xaxis\":{\"gridcolor\":\"white\",\"linecolor\":\"white\",\"ticks\":\"\",\"title\":{\"standoff\":15},\"zerolinecolor\":\"white\",\"automargin\":true,\"zerolinewidth\":2},\"yaxis\":{\"gridcolor\":\"white\",\"linecolor\":\"white\",\"ticks\":\"\",\"title\":{\"standoff\":15},\"zerolinecolor\":\"white\",\"automargin\":true,\"zerolinewidth\":2},\"scene\":{\"xaxis\":{\"backgroundcolor\":\"#E5ECF6\",\"gridcolor\":\"white\",\"linecolor\":\"white\",\"showbackground\":true,\"ticks\":\"\",\"zerolinecolor\":\"white\",\"gridwidth\":2},\"yaxis\":{\"backgroundcolor\":\"#E5ECF6\",\"gridcolor\":\"white\",\"linecolor\":\"white\",\"showbackground\":true,\"ticks\":\"\",\"zerolinecolor\":\"white\",\"gridwidth\":2},\"zaxis\":{\"backgroundcolor\":\"#E5ECF6\",\"gridcolor\":\"white\",\"linecolor\":\"white\",\"showbackground\":true,\"ticks\":\"\",\"zerolinecolor\":\"white\",\"gridwidth\":2}},\"shapedefaults\":{\"line\":{\"color\":\"#2a3f5f\"}},\"annotationdefaults\":{\"arrowcolor\":\"#2a3f5f\",\"arrowhead\":0,\"arrowwidth\":1},\"geo\":{\"bgcolor\":\"white\",\"landcolor\":\"#E5ECF6\",\"subunitcolor\":\"white\",\"showland\":true,\"showlakes\":true,\"lakecolor\":\"white\"},\"title\":{\"x\":0.05},\"mapbox\":{\"style\":\"light\"}}},\"xaxis\":{\"anchor\":\"y\",\"domain\":[0.0,1.0],\"title\":{\"text\":\"Fruit\"}},\"yaxis\":{\"anchor\":\"x\",\"domain\":[0.0,1.0],\"title\":{\"text\":\"Sales\"}},\"legend\":{\"tracegroupgap\":0},\"title\":{\"text\":\"Fruit Sales\"},\"barmode\":\"relative\"},                        {\"responsive\": true}                    ).then(function(){\n",
              "                            \n",
              "var gd = document.getElementById('2be9c7db-3890-4b27-97a3-cc4bdff6c9d6');\n",
              "var x = new MutationObserver(function (mutations, observer) {{\n",
              "        var display = window.getComputedStyle(gd).display;\n",
              "        if (!display || display === 'none') {{\n",
              "            console.log([gd, 'removed!']);\n",
              "            Plotly.purge(gd);\n",
              "            observer.disconnect();\n",
              "        }}\n",
              "}});\n",
              "\n",
              "// Listen for the removal of the full notebook cells\n",
              "var notebookContainer = gd.closest('#notebook-container');\n",
              "if (notebookContainer) {{\n",
              "    x.observe(notebookContainer, {childList: true});\n",
              "}}\n",
              "\n",
              "// Listen for the clearing of the current output cell\n",
              "var outputEl = gd.closest('.output');\n",
              "if (outputEl) {{\n",
              "    x.observe(outputEl, {childList: true});\n",
              "}}\n",
              "\n",
              "                        })                };                            </script>        </div>\n",
              "</body>\n",
              "</html>"
            ]
          },
          "metadata": {}
        }
      ]
    },
    {
      "cell_type": "markdown",
      "source": [
        "6. Create a DataFrame and add a new column based on an existing column."
      ],
      "metadata": {
        "id": "kr9GSl47OHbN"
      }
    },
    {
      "cell_type": "code",
      "source": [
        "import pandas as pd\n",
        "\n",
        "df = pd.DataFrame({'Name': ['A', 'B', 'C'], 'Marks': [70, 80, 90]})\n",
        "df['Grade'] = df['Marks'].apply(lambda x: 'Pass' if x >= 75 else 'Fail')\n",
        "print(df)\n"
      ],
      "metadata": {
        "colab": {
          "base_uri": "https://localhost:8080/"
        },
        "id": "RuSaHG6HUBv2",
        "outputId": "34b248cf-e8b8-4b39-bdfb-76b6c2ad5ebd"
      },
      "execution_count": null,
      "outputs": [
        {
          "output_type": "stream",
          "name": "stdout",
          "text": [
            "  Name  Marks Grade\n",
            "0    A     70  Fail\n",
            "1    B     80  Pass\n",
            "2    C     90  Pass\n"
          ]
        }
      ]
    },
    {
      "cell_type": "markdown",
      "source": [
        "7. Write a program to perform element-wise multiplication of two NumPy arrays."
      ],
      "metadata": {
        "id": "r7RMZCJHOMmM"
      }
    },
    {
      "cell_type": "code",
      "source": [
        "import numpy as np\n",
        "\n",
        "a = np.array([1, 2, 3])\n",
        "b = np.array([4, 5, 6])\n",
        "\n",
        "result = a * b\n",
        "print(\"Element-wise multiplication:\", result)\n",
        "\n",
        "\n"
      ],
      "metadata": {
        "colab": {
          "base_uri": "https://localhost:8080/"
        },
        "id": "7nwHLZxYUGW3",
        "outputId": "72a5d06f-2edb-4971-efc4-9e53a7aa6909"
      },
      "execution_count": null,
      "outputs": [
        {
          "output_type": "stream",
          "name": "stdout",
          "text": [
            "Element-wise multiplication: [ 4 10 18]\n"
          ]
        }
      ]
    },
    {
      "cell_type": "markdown",
      "source": [
        "8. Create a line plot with multiple lines using Matplotlib."
      ],
      "metadata": {
        "id": "uncDnv27OSGi"
      }
    },
    {
      "cell_type": "code",
      "source": [
        "import matplotlib.pyplot as plt\n",
        "\n",
        "x = [1, 2, 3, 4, 5]\n",
        "y1 = [1, 4, 9, 16, 25]\n",
        "y2 = [1, 2, 3, 4, 5]\n",
        "\n",
        "plt.plot(x, y1, label='y = x^2')\n",
        "plt.plot(x, y2, label='y = x')\n",
        "plt.legend()\n",
        "plt.title(\"Multiple Line Plot\")\n",
        "plt.show()\n"
      ],
      "metadata": {
        "colab": {
          "base_uri": "https://localhost:8080/",
          "height": 452
        },
        "id": "pQ6DE4GvULHw",
        "outputId": "6256afcd-7b56-4aa7-aeee-d48ba7949a3d"
      },
      "execution_count": null,
      "outputs": [
        {
          "output_type": "display_data",
          "data": {
            "text/plain": [
              "<Figure size 640x480 with 1 Axes>"
            ],
            "image/png": "[encoded data removed]"
          },
          "metadata": {}
        }
      ]
    },
    {
      "cell_type": "markdown",
      "source": [
        "9. Generate a Pandas DataFrame and filter rows where a column value is greater than a threshold."
      ],
      "metadata": {
        "id": "xrtrp4JROZ5r"
      }
    },
    {
      "cell_type": "code",
      "source": [
        "import pandas as pd\n",
        "\n",
        "df = pd.DataFrame({'Name': ['A', 'B', 'C'], 'Age': [21, 25, 19]})\n",
        "filtered = df[df['Age'] > 20]\n",
        "print(filtered)\n",
        "\n"
      ],
      "metadata": {
        "colab": {
          "base_uri": "https://localhost:8080/"
        },
        "id": "bbETCW1tUPSt",
        "outputId": "625aaa8a-00f6-409a-af2d-9960f66a464c"
      },
      "execution_count": null,
      "outputs": [
        {
          "output_type": "stream",
          "name": "stdout",
          "text": [
            "  Name  Age\n",
            "0    A   21\n",
            "1    B   25\n"
          ]
        }
      ]
    },
    {
      "cell_type": "markdown",
      "source": [
        "10. Create a histogram using Seaborn to visualize a distribution."
      ],
      "metadata": {
        "id": "oSskJnOSObyR"
      }
    },
    {
      "cell_type": "code",
      "source": [
        "import seaborn as sns\n",
        "import matplotlib.pyplot as plt\n",
        "\n",
        "data = [5, 7, 8, 7, 6, 9, 5, 6, 7, 8, 6]\n",
        "sns.histplot(data, bins=5, kde=True)\n",
        "plt.show()\n",
        "\n"
      ],
      "metadata": {
        "colab": {
          "base_uri": "https://localhost:8080/",
          "height": 430
        },
        "id": "jSRYYdUmUTKK",
        "outputId": "62cd5a31-32e0-4928-8e8b-0254e6207195"
      },
      "execution_count": null,
      "outputs": [
        {
          "output_type": "display_data",
          "data": {
            "text/plain": [
              "<Figure size 640x480 with 1 Axes>"
            ],
            "image/png": "[encoded data removed]"
          },
          "metadata": {}
        }
      ]
    },
    {
      "cell_type": "markdown",
      "source": [
        "11. Perform matrix multiplication using NumPy."
      ],
      "metadata": {
        "id": "t_Limg4vOhCL"
      }
    },
    {
      "cell_type": "code",
      "source": [
        "import numpy as np\n",
        "\n",
        "a = np.array([[1, 2],\n",
        "              [3, 4]])\n",
        "b = np.array([[5, 6],\n",
        "              [7, 8]])\n",
        "\n",
        "result = np.dot(a, b)\n",
        "print(\"Matrix multiplication:\\n\", result)\n",
        "\n"
      ],
      "metadata": {
        "colab": {
          "base_uri": "https://localhost:8080/"
        },
        "id": "uwOInQ26UZ0a",
        "outputId": "801f9583-ec01-4fe6-f9d8-2295ec3adae2"
      },
      "execution_count": null,
      "outputs": [
        {
          "output_type": "stream",
          "name": "stdout",
          "text": [
            "Matrix multiplication:\n",
            " [[19 22]\n",
            " [43 50]]\n"
          ]
        }
      ]
    },
    {
      "cell_type": "markdown",
      "source": [
        "12. Use Pandas to load a CSV file and display its first 5 rows."
      ],
      "metadata": {
        "id": "So2e52U4OlMV"
      }
    },
    {
      "cell_type": "code",
      "source": [
        "import pandas as pd\n",
        "import seaborn as sns\n",
        "\n",
        "# Load a sample dataset from seaborn\n",
        "df = sns.load_dataset('iris')\n",
        "\n",
        "# Display the first 5 rows\n",
        "print(df.head())"
      ],
      "metadata": {
        "colab": {
          "base_uri": "https://localhost:8080/"
        },
        "id": "lTgwI2zTUeQB",
        "outputId": "2ae59152-576b-4c7b-cfab-6b13617b2d3a"
      },
      "execution_count": null,
      "outputs": [
        {
          "output_type": "stream",
          "name": "stdout",
          "text": [
            "   sepal_length  sepal_width  petal_length  petal_width species\n",
            "0           5.1          3.5           1.4          0.2  setosa\n",
            "1           4.9          3.0           1.4          0.2  setosa\n",
            "2           4.7          3.2           1.3          0.2  setosa\n",
            "3           4.6          3.1           1.5          0.2  setosa\n",
            "4           5.0          3.6           1.4          0.2  setosa\n"
          ]
        }
      ]
    },
    {
      "cell_type": "markdown",
      "source": [
        "13. Create a 3D scatter plot using Plotly."
      ],
      "metadata": {
        "id": "uQaM60WbOpi1"
      }
    },
    {
      "cell_type": "code",
      "source": [
        "import plotly.express as px\n",
        "import pandas as pd\n",
        "\n",
        "df = pd.DataFrame({\n",
        "    'x': [1,2,3,4,5],\n",
        "    'y': [10,11,12,13,14],\n",
        "    'z': [5,6,7,8,9],\n",
        "    'Category': ['A','B','A','B','A']\n",
        "})\n",
        "\n",
        "fig = px.scatter_3d(df, x='x', y='y', z='z', color='Category', size=[10,20,30,40,50])\n",
        "fig.show()\n",
        "\n"
      ],
      "metadata": {
        "id": "1K1u5v_6WEu9",
        "outputId": "21cfd57e-4f8c-4af3-90ea-349eb659fd40",
        "colab": {
          "base_uri": "https://localhost:8080/",
          "height": 542
        }
      },
      "execution_count": null,
      "outputs": [
        {
          "output_type": "display_data",
          "data": {
            "text/html": [
              "<html>\n",
              "<head><meta charset=\"utf-8\" /></head>\n",
              "<body>\n",
              "    <div>            <script src=\"https://cdnjs.cloudflare.com/ajax/libs/mathjax/2.7.5/MathJax.js?config=TeX-AMS-MML_SVG\"></script><script type=\"text/javascript\">if (window.MathJax && window.MathJax.Hub && window.MathJax.Hub.Config) {window.MathJax.Hub.Config({SVG: {font: \"STIX-Web\"}});}</script>                <script type=\"text/javascript\">window.PlotlyConfig = {MathJaxConfig: 'local'};</script>\n",
              "        <script charset=\"utf-8\" src=\"https://cdn.plot.ly/plotly-2.35.2.min.js\"></script>                <div id=\"55c2324d-b5af-4ab4-9b5c-975bd0ca1e41\" class=\"plotly-graph-div\" style=\"height:525px; width:100%;\"></div>            <script type=\"text/javascript\">                                    window.PLOTLYENV=window.PLOTLYENV || {};                                    if (document.getElementById(\"55c2324d-b5af-4ab4-9b5c-975bd0ca1e41\")) {                    Plotly.newPlot(                        \"55c2324d-b5af-4ab4-9b5c-975bd0ca1e41\",                        [{\"hovertemplate\":\"Category=A\\u003cbr\\u003ex=%{x}\\u003cbr\\u003ey=%{y}\\u003cbr\\u003ez=%{z}\\u003cbr\\u003esize=%{marker.size}\\u003cextra\\u003e\\u003c\\u002fextra\\u003e\",\"legendgroup\":\"A\",\"marker\":{\"color\":\"#636efa\",\"size\":[10,30,50],\"sizemode\":\"area\",\"sizeref\":0.125,\"symbol\":\"circle\"},\"mode\":\"markers\",\"name\":\"A\",\"scene\":\"scene\",\"showlegend\":true,\"x\":[1,3,5],\"y\":[10,12,14],\"z\":[5,7,9],\"type\":\"scatter3d\"},{\"hovertemplate\":\"Category=B\\u003cbr\\u003ex=%{x}\\u003cbr\\u003ey=%{y}\\u003cbr\\u003ez=%{z}\\u003cbr\\u003esize=%{marker.size}\\u003cextra\\u003e\\u003c\\u002fextra\\u003e\",\"legendgroup\":\"B\",\"marker\":{\"color\":\"#EF553B\",\"size\":[20,40],\"sizemode\":\"area\",\"sizeref\":0.125,\"symbol\":\"circle\"},\"mode\":\"markers\",\"name\":\"B\",\"scene\":\"scene\",\"showlegend\":true,\"x\":[2,4],\"y\":[11,13],\"z\":[6,8],\"type\":\"scatter3d\"}],                        {\"template\":{\"data\":{\"histogram2dcontour\":[{\"type\":\"histogram2dcontour\",\"colorbar\":{\"outlinewidth\":0,\"ticks\":\"\"},\"colorscale\":[[0.0,\"#0d0887\"],[0.1111111111111111,\"#46039f\"],[0.2222222222222222,\"#7201a8\"],[0.3333333333333333,\"#9c179e\"],[0.4444444444444444,\"#bd3786\"],[0.5555555555555556,\"#d8576b\"],[0.6666666666666666,\"#ed7953\"],[0.7777777777777778,\"#fb9f3a\"],[0.8888888888888888,\"#fdca26\"],[1.0,\"#f0f921\"]]}],\"choropleth\":[{\"type\":\"choropleth\",\"colorbar\":{\"outlinewidth\":0,\"ticks\":\"\"}}],\"histogram2d\":[{\"type\":\"histogram2d\",\"colorbar\":{\"outlinewidth\":0,\"ticks\":\"\"},\"colorscale\":[[0.0,\"#0d0887\"],[0.1111111111111111,\"#46039f\"],[0.2222222222222222,\"#7201a8\"],[0.3333333333333333,\"#9c179e\"],[0.4444444444444444,\"#bd3786\"],[0.5555555555555556,\"#d8576b\"],[0.6666666666666666,\"#ed7953\"],[0.7777777777777778,\"#fb9f3a\"],[0.8888888888888888,\"#fdca26\"],[1.0,\"#f0f921\"]]}],\"heatmap\":[{\"type\":\"heatmap\",\"colorbar\":{\"outlinewidth\":0,\"ticks\":\"\"},\"colorscale\":[[0.0,\"#0d0887\"],[0.1111111111111111,\"#46039f\"],[0.2222222222222222,\"#7201a8\"],[0.3333333333333333,\"#9c179e\"],[0.4444444444444444,\"#bd3786\"],[0.5555555555555556,\"#d8576b\"],[0.6666666666666666,\"#ed7953\"],[0.7777777777777778,\"#fb9f3a\"],[0.8888888888888888,\"#fdca26\"],[1.0,\"#f0f921\"]]}],\"heatmapgl\":[{\"type\":\"heatmapgl\",\"colorbar\":{\"outlinewidth\":0,\"ticks\":\"\"},\"colorscale\":[[0.0,\"#0d0887\"],[0.1111111111111111,\"#46039f\"],[0.2222222222222222,\"#7201a8\"],[0.3333333333333333,\"#9c179e\"],[0.4444444444444444,\"#bd3786\"],[0.5555555555555556,\"#d8576b\"],[0.6666666666666666,\"#ed7953\"],[0.7777777777777778,\"#fb9f3a\"],[0.8888888888888888,\"#fdca26\"],[1.0,\"#f0f921\"]]}],\"contourcarpet\":[{\"type\":\"contourcarpet\",\"colorbar\":{\"outlinewidth\":0,\"ticks\":\"\"}}],\"contour\":[{\"type\":\"contour\",\"colorbar\":{\"outlinewidth\":0,\"ticks\":\"\"},\"colorscale\":[[0.0,\"#0d0887\"],[0.1111111111111111,\"#46039f\"],[0.2222222222222222,\"#7201a8\"],[0.3333333333333333,\"#9c179e\"],[0.4444444444444444,\"#bd3786\"],[0.5555555555555556,\"#d8576b\"],[0.6666666666666666,\"#ed7953\"],[0.7777777777777778,\"#fb9f3a\"],[0.8888888888888888,\"#fdca26\"],[1.0,\"#f0f921\"]]}],\"surface\":[{\"type\":\"surface\",\"colorbar\":{\"outlinewidth\":0,\"ticks\":\"\"},\"colorscale\":[[0.0,\"#0d0887\"],[0.1111111111111111,\"#46039f\"],[0.2222222222222222,\"#7201a8\"],[0.3333333333333333,\"#9c179e\"],[0.4444444444444444,\"#bd3786\"],[0.5555555555555556,\"#d8576b\"],[0.6666666666666666,\"#ed7953\"],[0.7777777777777778,\"#fb9f3a\"],[0.8888888888888888,\"#fdca26\"],[1.0,\"#f0f921\"]]}],\"mesh3d\":[{\"type\":\"mesh3d\",\"colorbar\":{\"outlinewidth\":0,\"ticks\":\"\"}}],\"scatter\":[{\"fillpattern\":{\"fillmode\":\"overlay\",\"size\":10,\"solidity\":0.2},\"type\":\"scatter\"}],\"parcoords\":[{\"type\":\"parcoords\",\"line\":{\"colorbar\":{\"outlinewidth\":0,\"ticks\":\"\"}}}],\"scatterpolargl\":[{\"type\":\"scatterpolargl\",\"marker\":{\"colorbar\":{\"outlinewidth\":0,\"ticks\":\"\"}}}],\"bar\":[{\"error_x\":{\"color\":\"#2a3f5f\"},\"error_y\":{\"color\":\"#2a3f5f\"},\"marker\":{\"line\":{\"color\":\"#E5ECF6\",\"width\":0.5},\"pattern\":{\"fillmode\":\"overlay\",\"size\":10,\"solidity\":0.2}},\"type\":\"bar\"}],\"scattergeo\":[{\"type\":\"scattergeo\",\"marker\":{\"colorbar\":{\"outlinewidth\":0,\"ticks\":\"\"}}}],\"scatterpolar\":[{\"type\":\"scatterpolar\",\"marker\":{\"colorbar\":{\"outlinewidth\":0,\"ticks\":\"\"}}}],\"histogram\":[{\"marker\":{\"pattern\":{\"fillmode\":\"overlay\",\"size\":10,\"solidity\":0.2}},\"type\":\"histogram\"}],\"scattergl\":[{\"type\":\"scattergl\",\"marker\":{\"colorbar\":{\"outlinewidth\":0,\"ticks\":\"\"}}}],\"scatter3d\":[{\"type\":\"scatter3d\",\"line\":{\"colorbar\":{\"outlinewidth\":0,\"ticks\":\"\"}},\"marker\":{\"colorbar\":{\"outlinewidth\":0,\"ticks\":\"\"}}}],\"scattermapbox\":[{\"type\":\"scattermapbox\",\"marker\":{\"colorbar\":{\"outlinewidth\":0,\"ticks\":\"\"}}}],\"scatterternary\":[{\"type\":\"scatterternary\",\"marker\":{\"colorbar\":{\"outlinewidth\":0,\"ticks\":\"\"}}}],\"scattercarpet\":[{\"type\":\"scattercarpet\",\"marker\":{\"colorbar\":{\"outlinewidth\":0,\"ticks\":\"\"}}}],\"carpet\":[{\"aaxis\":{\"endlinecolor\":\"#2a3f5f\",\"gridcolor\":\"white\",\"linecolor\":\"white\",\"minorgridcolor\":\"white\",\"startlinecolor\":\"#2a3f5f\"},\"baxis\":{\"endlinecolor\":\"#2a3f5f\",\"gridcolor\":\"white\",\"linecolor\":\"white\",\"minorgridcolor\":\"white\",\"startlinecolor\":\"#2a3f5f\"},\"type\":\"carpet\"}],\"table\":[{\"cells\":{\"fill\":{\"color\":\"#EBF0F8\"},\"line\":{\"color\":\"white\"}},\"header\":{\"fill\":{\"color\":\"#C8D4E3\"},\"line\":{\"color\":\"white\"}},\"type\":\"table\"}],\"barpolar\":[{\"marker\":{\"line\":{\"color\":\"#E5ECF6\",\"width\":0.5},\"pattern\":{\"fillmode\":\"overlay\",\"size\":10,\"solidity\":0.2}},\"type\":\"barpolar\"}],\"pie\":[{\"automargin\":true,\"type\":\"pie\"}]},\"layout\":{\"autotypenumbers\":\"strict\",\"colorway\":[\"#636efa\",\"#EF553B\",\"#00cc96\",\"#ab63fa\",\"#FFA15A\",\"#19d3f3\",\"#FF6692\",\"#B6E880\",\"#FF97FF\",\"#FECB52\"],\"font\":{\"color\":\"#2a3f5f\"},\"hovermode\":\"closest\",\"hoverlabel\":{\"align\":\"left\"},\"paper_bgcolor\":\"white\",\"plot_bgcolor\":\"#E5ECF6\",\"polar\":{\"bgcolor\":\"#E5ECF6\",\"angularaxis\":{\"gridcolor\":\"white\",\"linecolor\":\"white\",\"ticks\":\"\"},\"radialaxis\":{\"gridcolor\":\"white\",\"linecolor\":\"white\",\"ticks\":\"\"}},\"ternary\":{\"bgcolor\":\"#E5ECF6\",\"aaxis\":{\"gridcolor\":\"white\",\"linecolor\":\"white\",\"ticks\":\"\"},\"baxis\":{\"gridcolor\":\"white\",\"linecolor\":\"white\",\"ticks\":\"\"},\"caxis\":{\"gridcolor\":\"white\",\"linecolor\":\"white\",\"ticks\":\"\"}},\"coloraxis\":{\"colorbar\":{\"outlinewidth\":0,\"ticks\":\"\"}},\"colorscale\":{\"sequential\":[[0.0,\"#0d0887\"],[0.1111111111111111,\"#46039f\"],[0.2222222222222222,\"#7201a8\"],[0.3333333333333333,\"#9c179e\"],[0.4444444444444444,\"#bd3786\"],[0.5555555555555556,\"#d8576b\"],[0.6666666666666666,\"#ed7953\"],[0.7777777777777778,\"#fb9f3a\"],[0.8888888888888888,\"#fdca26\"],[1.0,\"#f0f921\"]],\"sequentialminus\":[[0.0,\"#0d0887\"],[0.1111111111111111,\"#46039f\"],[0.2222222222222222,\"#7201a8\"],[0.3333333333333333,\"#9c179e\"],[0.4444444444444444,\"#bd3786\"],[0.5555555555555556,\"#d8576b\"],[0.6666666666666666,\"#ed7953\"],[0.7777777777777778,\"#fb9f3a\"],[0.8888888888888888,\"#fdca26\"],[1.0,\"#f0f921\"]],\"diverging\":[[0,\"#8e0152\"],[0.1,\"#c51b7d\"],[0.2,\"#de77ae\"],[0.3,\"#f1b6da\"],[0.4,\"#fde0ef\"],[0.5,\"#f7f7f7\"],[0.6,\"#e6f5d0\"],[0.7,\"#b8e186\"],[0.8,\"#7fbc41\"],[0.9,\"#4d9221\"],[1,\"#276419\"]]},\"xaxis\":{\"gridcolor\":\"white\",\"linecolor\":\"white\",\"ticks\":\"\",\"title\":{\"standoff\":15},\"zerolinecolor\":\"white\",\"automargin\":true,\"zerolinewidth\":2},\"yaxis\":{\"gridcolor\":\"white\",\"linecolor\":\"white\",\"ticks\":\"\",\"title\":{\"standoff\":15},\"zerolinecolor\":\"white\",\"automargin\":true,\"zerolinewidth\":2},\"scene\":{\"xaxis\":{\"backgroundcolor\":\"#E5ECF6\",\"gridcolor\":\"white\",\"linecolor\":\"white\",\"showbackground\":true,\"ticks\":\"\",\"zerolinecolor\":\"white\",\"gridwidth\":2},\"yaxis\":{\"backgroundcolor\":\"#E5ECF6\",\"gridcolor\":\"white\",\"linecolor\":\"white\",\"showbackground\":true,\"ticks\":\"\",\"zerolinecolor\":\"white\",\"gridwidth\":2},\"zaxis\":{\"backgroundcolor\":\"#E5ECF6\",\"gridcolor\":\"white\",\"linecolor\":\"white\",\"showbackground\":true,\"ticks\":\"\",\"zerolinecolor\":\"white\",\"gridwidth\":2}},\"shapedefaults\":{\"line\":{\"color\":\"#2a3f5f\"}},\"annotationdefaults\":{\"arrowcolor\":\"#2a3f5f\",\"arrowhead\":0,\"arrowwidth\":1},\"geo\":{\"bgcolor\":\"white\",\"landcolor\":\"#E5ECF6\",\"subunitcolor\":\"white\",\"showland\":true,\"showlakes\":true,\"lakecolor\":\"white\"},\"title\":{\"x\":0.05},\"mapbox\":{\"style\":\"light\"}}},\"scene\":{\"domain\":{\"x\":[0.0,1.0],\"y\":[0.0,1.0]},\"xaxis\":{\"title\":{\"text\":\"x\"}},\"yaxis\":{\"title\":{\"text\":\"y\"}},\"zaxis\":{\"title\":{\"text\":\"z\"}}},\"legend\":{\"title\":{\"text\":\"Category\"},\"tracegroupgap\":0,\"itemsizing\":\"constant\"},\"margin\":{\"t\":60}},                        {\"responsive\": true}                    ).then(function(){\n",
              "                            \n",
              "var gd = document.getElementById('55c2324d-b5af-4ab4-9b5c-975bd0ca1e41');\n",
              "var x = new MutationObserver(function (mutations, observer) {{\n",
              "        var display = window.getComputedStyle(gd).display;\n",
              "        if (!display || display === 'none') {{\n",
              "            console.log([gd, 'removed!']);\n",
              "            Plotly.purge(gd);\n",
              "            observer.disconnect();\n",
              "        }}\n",
              "}});\n",
              "\n",
              "// Listen for the removal of the full notebook cells\n",
              "var notebookContainer = gd.closest('#notebook-container');\n",
              "if (notebookContainer) {{\n",
              "    x.observe(notebookContainer, {childList: true});\n",
              "}}\n",
              "\n",
              "// Listen for the clearing of the current output cell\n",
              "var outputEl = gd.closest('.output');\n",
              "if (outputEl) {{\n",
              "    x.observe(outputEl, {childList: true});\n",
              "}}\n",
              "\n",
              "                        })                };                            </script>        </div>\n",
              "</body>\n",
              "</html>"
            ]
          },
          "metadata": {}
        }
      ]
    },
    {
      "cell_type": "markdown",
      "source": [],
      "metadata": {
        "id": "5RZCbKUcOvuk"
      }
    }
  ]
}